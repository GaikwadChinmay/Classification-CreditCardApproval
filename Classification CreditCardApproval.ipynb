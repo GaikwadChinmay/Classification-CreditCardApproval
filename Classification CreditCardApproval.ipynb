{
  "nbformat": 4,
  "nbformat_minor": 0,
  "metadata": {
    "kernelspec": {
      "display_name": "Python 3 (ipykernel)",
      "language": "python",
      "name": "python3"
    },
    "language_info": {
      "codemirror_mode": {
        "name": "ipython",
        "version": 3
      },
      "file_extension": ".py",
      "mimetype": "text/x-python",
      "name": "python",
      "nbconvert_exporter": "python",
      "pygments_lexer": "ipython3",
      "version": "3.8.10"
    },
    "colab": {
      "name": "Notebook.ipynb",
      "provenance": [],
      "collapsed_sections": []
    }
  },
  "cells": [
    {
      "cell_type": "markdown",
      "metadata": {
        "dc": {
          "key": "3"
        },
        "deletable": false,
        "editable": false,
        "run_control": {
          "frozen": true
        },
        "tags": [
          "context"
        ],
        "id": "_PwuDtzISG6p"
      },
      "source": [
        "## 1. Credit card applications\n",
        "<p>Commercial banks receive a lot of applications for credit cards. Many of them get rejected for many reasons, like high loan balances, low income levels, or too many inquiries on an individual's credit report, for example. Manually analyzing these applications is mundane, error-prone, and time-consuming (and time is money!). Luckily, this task can be automated with the power of machine learning and pretty much every commercial bank does so nowadays. In this notebook, I'm building an automatic credit card approval predictor using machine learning techniques, just like the real banks do.</p>\n",
        "<p><img src=\"https://assets.datacamp.com/production/project_558/img/credit_card.jpg\" alt=\"Credit card being held in hand\"></p>\n",
        "<p>I'll use the <a href=\"http://archive.ics.uci.edu/ml/datasets/credit+approval\">Credit Card Approval dataset</a> from the UCI Machine Learning Repository. The structure of this notebook is as follows:</p>\n",
        "<ul>\n",
        "<li>First, loading and viewing the dataset.</li>\n",
        "<li>The dataset has a mixture of both numerical and non-numerical features, that it contains values from different ranges, plus that it contains a number of missing entries.</li>\n",
        "<li>Preprocessing of the dataset to ensure the machine learning model we choose can make good predictions.</li>\n",
        "<li>After our data is in good shape, exploratory data analysis to build our intuitions.</li>\n",
        "<li>Finally, building a machine learning model that can predict if an individual's application for a credit card will be accepted.</li>\n",
        "</ul>\n",
        "<p>First, loading and viewing the dataset. We find that since this data is confidential, the contributor of the dataset has anonymized the feature names.</p>\n",
        "\n",
        "- `Author - Chinmay Gaikwad`\n",
        "- `Email - chinnmaygaikwad123@gmail.com`"
      ]
    },
    {
      "cell_type": "code",
      "metadata": {
        "dc": {
          "key": "3"
        },
        "tags": [
          "sample_code"
        ],
        "id": "2WBxgCUWSG6y"
      },
      "source": [
        "# Importing pandas\n",
        "import numpy as np, pandas as pd\n",
        "# Loading dataset\n",
        "cc_apps = pd.read_csv('/content/cc_approvals.data',header=None)\n",
        "\n",
        "# Inspecting data"
      ],
      "execution_count": 1,
      "outputs": []
    },
    {
      "cell_type": "code",
      "metadata": {
        "dc": {
          "key": "3"
        },
        "colab": {
          "base_uri": "https://localhost:8080/",
          "height": 203
        },
        "id": "H1JLsChjSG60",
        "outputId": "619a903d-5e64-480a-a589-ab4e1b00d971"
      },
      "source": [
        "cc_apps.head()"
      ],
      "execution_count": 2,
      "outputs": [
        {
          "output_type": "execute_result",
          "data": {
            "text/html": [
              "<div>\n",
              "<style scoped>\n",
              "    .dataframe tbody tr th:only-of-type {\n",
              "        vertical-align: middle;\n",
              "    }\n",
              "\n",
              "    .dataframe tbody tr th {\n",
              "        vertical-align: top;\n",
              "    }\n",
              "\n",
              "    .dataframe thead th {\n",
              "        text-align: right;\n",
              "    }\n",
              "</style>\n",
              "<table border=\"1\" class=\"dataframe\">\n",
              "  <thead>\n",
              "    <tr style=\"text-align: right;\">\n",
              "      <th></th>\n",
              "      <th>0</th>\n",
              "      <th>1</th>\n",
              "      <th>2</th>\n",
              "      <th>3</th>\n",
              "      <th>4</th>\n",
              "      <th>5</th>\n",
              "      <th>6</th>\n",
              "      <th>7</th>\n",
              "      <th>8</th>\n",
              "      <th>9</th>\n",
              "      <th>10</th>\n",
              "      <th>11</th>\n",
              "      <th>12</th>\n",
              "      <th>13</th>\n",
              "      <th>14</th>\n",
              "      <th>15</th>\n",
              "    </tr>\n",
              "  </thead>\n",
              "  <tbody>\n",
              "    <tr>\n",
              "      <th>0</th>\n",
              "      <td>b</td>\n",
              "      <td>30.83</td>\n",
              "      <td>0.000</td>\n",
              "      <td>u</td>\n",
              "      <td>g</td>\n",
              "      <td>w</td>\n",
              "      <td>v</td>\n",
              "      <td>1.25</td>\n",
              "      <td>t</td>\n",
              "      <td>t</td>\n",
              "      <td>1</td>\n",
              "      <td>f</td>\n",
              "      <td>g</td>\n",
              "      <td>00202</td>\n",
              "      <td>0</td>\n",
              "      <td>+</td>\n",
              "    </tr>\n",
              "    <tr>\n",
              "      <th>1</th>\n",
              "      <td>a</td>\n",
              "      <td>58.67</td>\n",
              "      <td>4.460</td>\n",
              "      <td>u</td>\n",
              "      <td>g</td>\n",
              "      <td>q</td>\n",
              "      <td>h</td>\n",
              "      <td>3.04</td>\n",
              "      <td>t</td>\n",
              "      <td>t</td>\n",
              "      <td>6</td>\n",
              "      <td>f</td>\n",
              "      <td>g</td>\n",
              "      <td>00043</td>\n",
              "      <td>560</td>\n",
              "      <td>+</td>\n",
              "    </tr>\n",
              "    <tr>\n",
              "      <th>2</th>\n",
              "      <td>a</td>\n",
              "      <td>24.50</td>\n",
              "      <td>0.500</td>\n",
              "      <td>u</td>\n",
              "      <td>g</td>\n",
              "      <td>q</td>\n",
              "      <td>h</td>\n",
              "      <td>1.50</td>\n",
              "      <td>t</td>\n",
              "      <td>f</td>\n",
              "      <td>0</td>\n",
              "      <td>f</td>\n",
              "      <td>g</td>\n",
              "      <td>00280</td>\n",
              "      <td>824</td>\n",
              "      <td>+</td>\n",
              "    </tr>\n",
              "    <tr>\n",
              "      <th>3</th>\n",
              "      <td>b</td>\n",
              "      <td>27.83</td>\n",
              "      <td>1.540</td>\n",
              "      <td>u</td>\n",
              "      <td>g</td>\n",
              "      <td>w</td>\n",
              "      <td>v</td>\n",
              "      <td>3.75</td>\n",
              "      <td>t</td>\n",
              "      <td>t</td>\n",
              "      <td>5</td>\n",
              "      <td>t</td>\n",
              "      <td>g</td>\n",
              "      <td>00100</td>\n",
              "      <td>3</td>\n",
              "      <td>+</td>\n",
              "    </tr>\n",
              "    <tr>\n",
              "      <th>4</th>\n",
              "      <td>b</td>\n",
              "      <td>20.17</td>\n",
              "      <td>5.625</td>\n",
              "      <td>u</td>\n",
              "      <td>g</td>\n",
              "      <td>w</td>\n",
              "      <td>v</td>\n",
              "      <td>1.71</td>\n",
              "      <td>t</td>\n",
              "      <td>f</td>\n",
              "      <td>0</td>\n",
              "      <td>f</td>\n",
              "      <td>s</td>\n",
              "      <td>00120</td>\n",
              "      <td>0</td>\n",
              "      <td>+</td>\n",
              "    </tr>\n",
              "  </tbody>\n",
              "</table>\n",
              "</div>"
            ],
            "text/plain": [
              "  0      1      2  3  4  5  6     7  8  9   10 11 12     13   14 15\n",
              "0  b  30.83  0.000  u  g  w  v  1.25  t  t   1  f  g  00202    0  +\n",
              "1  a  58.67  4.460  u  g  q  h  3.04  t  t   6  f  g  00043  560  +\n",
              "2  a  24.50  0.500  u  g  q  h  1.50  t  f   0  f  g  00280  824  +\n",
              "3  b  27.83  1.540  u  g  w  v  3.75  t  t   5  t  g  00100    3  +\n",
              "4  b  20.17  5.625  u  g  w  v  1.71  t  f   0  f  s  00120    0  +"
            ]
          },
          "metadata": {},
          "execution_count": 2
        }
      ]
    },
    {
      "cell_type": "markdown",
      "metadata": {
        "dc": {
          "key": "10"
        },
        "deletable": false,
        "editable": false,
        "run_control": {
          "frozen": true
        },
        "tags": [
          "context"
        ],
        "id": "XD5I5YjXSG63"
      },
      "source": [
        "## 2. Inspecting the applications\n",
        "<p>The output may appear a bit confusing at its first sight, but let's try to figure out the most important features of a credit card application. The features of this dataset have been anonymized to protect the privacy, but this <a href=\"http://rstudio-pubs-static.s3.amazonaws.com/73039_9946de135c0a49daa7a0a9eda4a67a72.html\">blog</a> gives us a pretty good overview of the probable features. The probable features in a typical credit card application are <code>Gender</code>, <code>Age</code>, <code>Debt</code>, <code>Married</code>, <code>BankCustomer</code>, <code>EducationLevel</code>, <code>Ethnicity</code>, <code>YearsEmployed</code>, <code>PriorDefault</code>, <code>Employed</code>, <code>CreditScore</code>, <code>DriversLicense</code>, <code>Citizen</code>, <code>ZipCode</code>, <code>Income</code> and finally the <code>ApprovalStatus</code>. This gives us a pretty good starting point, and we can map these features with respect to the columns in the output.   </p>\n",
        "<p>As we can see from our first glance at the data, the dataset has a mixture of numerical and non-numerical features. This can be fixed with some preprocessing, but before we do that, let's learn about the dataset a bit more to see if there are other dataset issues that need to be fixed.</p>"
      ]
    },
    {
      "cell_type": "code",
      "metadata": {
        "dc": {
          "key": "10"
        },
        "tags": [
          "sample_code"
        ],
        "colab": {
          "base_uri": "https://localhost:8080/"
        },
        "id": "eG2fpfUMSG64",
        "outputId": "b12db042-eb8e-4c57-afbf-9bf467b9d54e"
      },
      "source": [
        "# Printing summary statistics\n",
        "cc_apps_description = cc_apps.describe()\n",
        "print(cc_apps_description)\n",
        "print(\"\\n\")\n",
        "\n",
        "# Printing DataFrame information\n",
        "cc_apps_info = cc_apps.info()\n",
        "print(cc_apps_info)\n",
        "print(\"\\n\")\n",
        "# Inspecting missing values in the dataset"
      ],
      "execution_count": 3,
      "outputs": [
        {
          "output_type": "stream",
          "name": "stdout",
          "text": [
            "               2           7          10             14\n",
            "count  690.000000  690.000000  690.00000     690.000000\n",
            "mean     4.758725    2.223406    2.40000    1017.385507\n",
            "std      4.978163    3.346513    4.86294    5210.102598\n",
            "min      0.000000    0.000000    0.00000       0.000000\n",
            "25%      1.000000    0.165000    0.00000       0.000000\n",
            "50%      2.750000    1.000000    0.00000       5.000000\n",
            "75%      7.207500    2.625000    3.00000     395.500000\n",
            "max     28.000000   28.500000   67.00000  100000.000000\n",
            "\n",
            "\n",
            "<class 'pandas.core.frame.DataFrame'>\n",
            "RangeIndex: 690 entries, 0 to 689\n",
            "Data columns (total 16 columns):\n",
            " #   Column  Non-Null Count  Dtype  \n",
            "---  ------  --------------  -----  \n",
            " 0   0       690 non-null    object \n",
            " 1   1       690 non-null    object \n",
            " 2   2       690 non-null    float64\n",
            " 3   3       690 non-null    object \n",
            " 4   4       690 non-null    object \n",
            " 5   5       690 non-null    object \n",
            " 6   6       690 non-null    object \n",
            " 7   7       690 non-null    float64\n",
            " 8   8       690 non-null    object \n",
            " 9   9       690 non-null    object \n",
            " 10  10      690 non-null    int64  \n",
            " 11  11      690 non-null    object \n",
            " 12  12      690 non-null    object \n",
            " 13  13      690 non-null    object \n",
            " 14  14      690 non-null    int64  \n",
            " 15  15      690 non-null    object \n",
            "dtypes: float64(2), int64(2), object(12)\n",
            "memory usage: 86.4+ KB\n",
            "None\n",
            "\n",
            "\n"
          ]
        }
      ]
    },
    {
      "cell_type": "markdown",
      "metadata": {
        "dc": {
          "key": "17"
        },
        "deletable": false,
        "editable": false,
        "run_control": {
          "frozen": true
        },
        "tags": [
          "context"
        ],
        "id": "T3F6TTc6SG65"
      },
      "source": [
        "## 3. Handling the missing values\n",
        "<p>We've uncovered some issues that will affect the performance of our machine learning model(s) if they go unchanged:</p>\n",
        "<ul>\n",
        "<li>Our dataset contains both numeric and non-numeric data (specifically data that are of <code>float64</code>, <code>int64</code> and <code>object</code> types). Specifically, the features 2, 7, 10 and 14 contain numeric values (of types float64, float64, int64 and int64 respectively) and all the other features contain non-numeric values.</li>\n",
        "<li>The dataset also contains values from several ranges. Some features have a value range of 0 - 28, some have a range of 2 - 67, and some have a range of 1017 - 100000. Apart from these, we can get useful statistical information (like <code>mean</code>, <code>max</code>, and <code>min</code>) about the features that have numerical values. </li>\n",
        "<li>Finally, the dataset has missing values, which we'll take care of in this task. The missing values in the dataset are labeled with '?', which can be seen in the last cell's output.</li>\n",
        "</ul>\n",
        "<p>Now, let's temporarily replace these missing value question marks with NaN.</p>"
      ]
    },
    {
      "cell_type": "code",
      "metadata": {
        "dc": {
          "key": "17"
        },
        "tags": [
          "sample_code"
        ],
        "colab": {
          "base_uri": "https://localhost:8080/"
        },
        "id": "H2U5z0aCSG67",
        "outputId": "baac53ed-6c65-4441-ea56-7110ab70ed5a"
      },
      "source": [
        "# Importing numpy\n",
        "import numpy as np\n",
        "# Inspecting missing values in the dataset\n",
        "print(cc_apps.tail())\n",
        "# Replacing the '?'s with NaN\n",
        "cc_apps = cc_apps.replace('?',np.NaN)\n",
        "# Inspecting the missing values again"
      ],
      "execution_count": 4,
      "outputs": [
        {
          "output_type": "stream",
          "name": "stdout",
          "text": [
            "    0      1       2  3  4   5   6     7  8  9   10 11 12     13   14 15\n",
            "685  b  21.08  10.085  y  p   e   h  1.25  f  f   0  f  g  00260    0  -\n",
            "686  a  22.67   0.750  u  g   c   v  2.00  f  t   2  t  g  00200  394  -\n",
            "687  a  25.25  13.500  y  p  ff  ff  2.00  f  t   1  t  g  00200    1  -\n",
            "688  b  17.92   0.205  u  g  aa   v  0.04  f  f   0  f  g  00280  750  -\n",
            "689  b  35.00   3.375  u  g   c   h  8.29  f  f   0  t  g  00000    0  -\n"
          ]
        }
      ]
    },
    {
      "cell_type": "markdown",
      "metadata": {
        "dc": {
          "key": "24"
        },
        "deletable": false,
        "editable": false,
        "run_control": {
          "frozen": true
        },
        "tags": [
          "context"
        ],
        "id": "agOmCGehSG69"
      },
      "source": [
        "## 4. Handling the missing values\n",
        "<p>We replaced all the question marks with NaNs. This is going to help us in the next missing value treatment that we are going to perform.</p>\n",
        "<p>An important question that gets raised here is <em>why are we giving so much importance to missing values</em>? Can't they be just ignored? Ignoring missing values can affect the performance of a machine learning model heavily. While ignoring the missing values our machine learning model may miss out on information about the dataset that may be useful for its training. Then, there are many models which cannot handle missing values implicitly such as LDA. </p>\n",
        "<p>So, to avoid this problem, we are going to impute the missing values with a strategy called mean imputation.</p>"
      ]
    },
    {
      "cell_type": "code",
      "metadata": {
        "dc": {
          "key": "24"
        },
        "tags": [
          "sample_code"
        ],
        "id": "K7wwyQzcSG6-"
      },
      "source": [
        "# Imputing the missing values with mean imputation\n",
        "cc_apps.fillna(cc_apps.mean(), inplace=True)\n",
        "\n",
        "# Counting the number of NaNs in the dataset to verify"
      ],
      "execution_count": 5,
      "outputs": []
    },
    {
      "cell_type": "markdown",
      "metadata": {
        "dc": {
          "key": "31"
        },
        "deletable": false,
        "editable": false,
        "run_control": {
          "frozen": true
        },
        "tags": [
          "context"
        ],
        "id": "r-wqHd3dSG7A"
      },
      "source": [
        "## 5. Handling the missing values (part iii)\n",
        "<p>We have successfully taken care of the missing values present in the numeric columns. There are still some missing values to be imputed for columns 0, 1, 3, 4, 5, 6 and 13. All of these columns contain non-numeric data and this why the mean imputation strategy would not work here. This needs a different treatment. </p>\n",
        "<p>We are going to impute these missing values with the most frequent values as present in the respective columns. This is <a href=\"https://www.datacamp.com/community/tutorials/categorical-data\">good practice</a> when it comes to imputing missing values for categorical data in general.</p>"
      ]
    },
    {
      "cell_type": "code",
      "metadata": {
        "dc": {
          "key": "31"
        },
        "tags": [
          "sample_code"
        ],
        "id": "Qz_Rlb92SG7B"
      },
      "source": [
        "# Iterating over each column of cc_apps\n",
        "for col in cc_apps.columns:\n",
        "    # Checking if the column is of object type\n",
        "    if cc_apps[col].dtype == 'object':\n",
        "        # Imputing with the most frequent value\n",
        "        cc_apps = cc_apps.fillna(max(cc_apps[col].value_counts()))\n",
        "\n",
        "# Counting the number of NaNs in the dataset and print the counts to verify"
      ],
      "execution_count": 6,
      "outputs": []
    },
    {
      "cell_type": "markdown",
      "metadata": {
        "dc": {
          "key": "38"
        },
        "deletable": false,
        "editable": false,
        "run_control": {
          "frozen": true
        },
        "tags": [
          "context"
        ],
        "id": "IWfvpHF2SG7B"
      },
      "source": [
        "## 6. Preprocessing the data\n",
        "<p>The missing values are now successfully handled.</p>\n",
        "<p>There is still some minor but essential data preprocessing needed before we proceed towards building our machine learning model. We are going to divide these remaining preprocessing steps into three main tasks:</p>\n",
        "<ol>\n",
        "<li>Convert the non-numeric data into numeric.</li>\n",
        "<li>Split the data into train and test sets. </li>\n",
        "<li>Scale the feature values to a uniform range.</li>\n",
        "</ol>\n",
        "<p>First, we will be converting all the non-numeric values into numeric ones. We do this because not only it results in a faster computation but also many machine learning models (like XGBoost) (and especially the ones developed using scikit-learn) require the data to be in a strictly numeric format. We will do this by using a technique called <a href=\"http://scikit-learn.org/stable/modules/generated/sklearn.preprocessing.LabelEncoder.html\">label encoding</a>.</p>"
      ]
    },
    {
      "cell_type": "code",
      "metadata": {
        "dc": {
          "key": "38"
        },
        "colab": {
          "base_uri": "https://localhost:8080/",
          "height": 203
        },
        "id": "4i8sVsU8SG7C",
        "outputId": "4de5ba4a-fc02-49cd-8597-e3456ab24601"
      },
      "source": [
        "cc_apps.head()"
      ],
      "execution_count": 7,
      "outputs": [
        {
          "output_type": "execute_result",
          "data": {
            "text/html": [
              "<div>\n",
              "<style scoped>\n",
              "    .dataframe tbody tr th:only-of-type {\n",
              "        vertical-align: middle;\n",
              "    }\n",
              "\n",
              "    .dataframe tbody tr th {\n",
              "        vertical-align: top;\n",
              "    }\n",
              "\n",
              "    .dataframe thead th {\n",
              "        text-align: right;\n",
              "    }\n",
              "</style>\n",
              "<table border=\"1\" class=\"dataframe\">\n",
              "  <thead>\n",
              "    <tr style=\"text-align: right;\">\n",
              "      <th></th>\n",
              "      <th>0</th>\n",
              "      <th>1</th>\n",
              "      <th>2</th>\n",
              "      <th>3</th>\n",
              "      <th>4</th>\n",
              "      <th>5</th>\n",
              "      <th>6</th>\n",
              "      <th>7</th>\n",
              "      <th>8</th>\n",
              "      <th>9</th>\n",
              "      <th>10</th>\n",
              "      <th>11</th>\n",
              "      <th>12</th>\n",
              "      <th>13</th>\n",
              "      <th>14</th>\n",
              "      <th>15</th>\n",
              "    </tr>\n",
              "  </thead>\n",
              "  <tbody>\n",
              "    <tr>\n",
              "      <th>0</th>\n",
              "      <td>b</td>\n",
              "      <td>30.83</td>\n",
              "      <td>0.000</td>\n",
              "      <td>u</td>\n",
              "      <td>g</td>\n",
              "      <td>w</td>\n",
              "      <td>v</td>\n",
              "      <td>1.25</td>\n",
              "      <td>t</td>\n",
              "      <td>t</td>\n",
              "      <td>1</td>\n",
              "      <td>f</td>\n",
              "      <td>g</td>\n",
              "      <td>00202</td>\n",
              "      <td>0</td>\n",
              "      <td>+</td>\n",
              "    </tr>\n",
              "    <tr>\n",
              "      <th>1</th>\n",
              "      <td>a</td>\n",
              "      <td>58.67</td>\n",
              "      <td>4.460</td>\n",
              "      <td>u</td>\n",
              "      <td>g</td>\n",
              "      <td>q</td>\n",
              "      <td>h</td>\n",
              "      <td>3.04</td>\n",
              "      <td>t</td>\n",
              "      <td>t</td>\n",
              "      <td>6</td>\n",
              "      <td>f</td>\n",
              "      <td>g</td>\n",
              "      <td>00043</td>\n",
              "      <td>560</td>\n",
              "      <td>+</td>\n",
              "    </tr>\n",
              "    <tr>\n",
              "      <th>2</th>\n",
              "      <td>a</td>\n",
              "      <td>24.50</td>\n",
              "      <td>0.500</td>\n",
              "      <td>u</td>\n",
              "      <td>g</td>\n",
              "      <td>q</td>\n",
              "      <td>h</td>\n",
              "      <td>1.50</td>\n",
              "      <td>t</td>\n",
              "      <td>f</td>\n",
              "      <td>0</td>\n",
              "      <td>f</td>\n",
              "      <td>g</td>\n",
              "      <td>00280</td>\n",
              "      <td>824</td>\n",
              "      <td>+</td>\n",
              "    </tr>\n",
              "    <tr>\n",
              "      <th>3</th>\n",
              "      <td>b</td>\n",
              "      <td>27.83</td>\n",
              "      <td>1.540</td>\n",
              "      <td>u</td>\n",
              "      <td>g</td>\n",
              "      <td>w</td>\n",
              "      <td>v</td>\n",
              "      <td>3.75</td>\n",
              "      <td>t</td>\n",
              "      <td>t</td>\n",
              "      <td>5</td>\n",
              "      <td>t</td>\n",
              "      <td>g</td>\n",
              "      <td>00100</td>\n",
              "      <td>3</td>\n",
              "      <td>+</td>\n",
              "    </tr>\n",
              "    <tr>\n",
              "      <th>4</th>\n",
              "      <td>b</td>\n",
              "      <td>20.17</td>\n",
              "      <td>5.625</td>\n",
              "      <td>u</td>\n",
              "      <td>g</td>\n",
              "      <td>w</td>\n",
              "      <td>v</td>\n",
              "      <td>1.71</td>\n",
              "      <td>t</td>\n",
              "      <td>f</td>\n",
              "      <td>0</td>\n",
              "      <td>f</td>\n",
              "      <td>s</td>\n",
              "      <td>00120</td>\n",
              "      <td>0</td>\n",
              "      <td>+</td>\n",
              "    </tr>\n",
              "  </tbody>\n",
              "</table>\n",
              "</div>"
            ],
            "text/plain": [
              "  0      1      2  3  4  5  6     7  8  9   10 11 12     13   14 15\n",
              "0  b  30.83  0.000  u  g  w  v  1.25  t  t   1  f  g  00202    0  +\n",
              "1  a  58.67  4.460  u  g  q  h  3.04  t  t   6  f  g  00043  560  +\n",
              "2  a  24.50  0.500  u  g  q  h  1.50  t  f   0  f  g  00280  824  +\n",
              "3  b  27.83  1.540  u  g  w  v  3.75  t  t   5  t  g  00100    3  +\n",
              "4  b  20.17  5.625  u  g  w  v  1.71  t  f   0  f  s  00120    0  +"
            ]
          },
          "metadata": {},
          "execution_count": 7
        }
      ]
    },
    {
      "cell_type": "code",
      "metadata": {
        "dc": {
          "key": "38"
        },
        "tags": [
          "sample_code"
        ],
        "id": "0SSC-RqkSG7D"
      },
      "source": [
        "# Importing LabelEncoder\n",
        "from sklearn.preprocessing import LabelEncoder\n",
        "\n",
        "# Instantiating LabelEncoder\n",
        "le=LabelEncoder()\n",
        "\n",
        "# Iterating over all the values of each column and extract their dtypes\n",
        "for col in cc_apps.columns.to_numpy():\n",
        "    # Comparing if the dtype is object\n",
        "    if cc_apps[col].dtypes=='object':\n",
        "        #print(cc_apps[col])\n",
        "    # Using LabelEncoder to do the numeric transformation\n",
        "        cc_apps[col]=le.fit_transform(cc_apps[col].astype(str))"
      ],
      "execution_count": 8,
      "outputs": []
    },
    {
      "cell_type": "markdown",
      "metadata": {
        "dc": {
          "key": "45"
        },
        "deletable": false,
        "editable": false,
        "run_control": {
          "frozen": true
        },
        "tags": [
          "context"
        ],
        "id": "5zKcdxdqSG7E"
      },
      "source": [
        "## 7. Splitting the dataset into train and test sets\n",
        "<p>We have successfully converted all the non-numeric values to numeric ones.</p>\n",
        "<p>Now, we will split our data into train set and test set to prepare our data for two different phases of machine learning modeling: training and testing. Ideally, no information from the test data should be used to scale the training data or should be used to direct the training process of a machine learning model. Hence, we first split the data and then apply the scaling.</p>\n",
        "<p>Also, features like <code>DriversLicense</code> and <code>ZipCode</code> are not as important as the other features in the dataset for predicting credit card approvals. We should drop them to design our machine learning model with the best set of features. In Data Science literature, this is often referred to as <em>feature selection</em>. </p>"
      ]
    },
    {
      "cell_type": "code",
      "metadata": {
        "dc": {
          "key": "45"
        },
        "tags": [
          "sample_code"
        ],
        "id": "ycbX2b8uSG7E"
      },
      "source": [
        "# Importing train_test_split\n",
        "from sklearn.model_selection import train_test_split\n",
        "\n",
        "# Dropping the features 11 and 13 and convert the DataFrame to a NumPy array\n",
        "cc_apps = cc_apps.drop([11, 13], axis=1)\n",
        "cc_apps = cc_apps.to_numpy()\n",
        "\n",
        "# Segregating features and labels into separate variables\n",
        "X,y = cc_apps[:,0:11] , cc_apps[:,13]\n",
        "\n",
        "# Splitting into train and test sets\n",
        "X_train, X_test, y_train, y_test = train_test_split(X,y,test_size=0.33,random_state=42)"
      ],
      "execution_count": 9,
      "outputs": []
    },
    {
      "cell_type": "markdown",
      "metadata": {
        "dc": {
          "key": "52"
        },
        "deletable": false,
        "editable": false,
        "run_control": {
          "frozen": true
        },
        "tags": [
          "context"
        ],
        "id": "r93-XcSlSG7F"
      },
      "source": [
        "## 8. Preprocessing the data\n",
        "<p>The data is now split into two separate sets - train and test sets respectively. We are only left with one final preprocessing step of scaling before we can fit a machine learning model to the data. </p>\n",
        "<p>Now, let's try to understand what these scaled values mean in the real world. Let's use <code>CreditScore</code> as an example. The credit score of a person is their creditworthiness based on their credit history. The higher this number, the more financially trustworthy a person is considered to be. So, a <code>CreditScore</code> of 1 is the highest since we're rescaling all the values to the range of 0-1.</p>"
      ]
    },
    {
      "cell_type": "code",
      "metadata": {
        "dc": {
          "key": "52"
        },
        "tags": [
          "sample_code"
        ],
        "id": "y5MoVPoSSG7F"
      },
      "source": [
        "# Import MinMaxScaler\n",
        "from sklearn.preprocessing import MinMaxScaler\n",
        "\n",
        "# Instantiate MinMaxScaler and use it to rescale X_train and X_test\n",
        "scaler = MinMaxScaler(feature_range=(0,1))\n",
        "rescaledX_train = scaler.fit_transform(X_train)\n",
        "rescaledX_test = scaler.fit_transform(X_test)"
      ],
      "execution_count": 10,
      "outputs": []
    },
    {
      "cell_type": "markdown",
      "metadata": {
        "dc": {
          "key": "59"
        },
        "deletable": false,
        "editable": false,
        "run_control": {
          "frozen": true
        },
        "tags": [
          "context"
        ],
        "id": "KoTPB-1gSG7G"
      },
      "source": [
        "## 9. Fitting a logistic regression model to the train set\n",
        "<p>Essentially, predicting if a credit card application will be approved or not is a <a href=\"https://en.wikipedia.org/wiki/Statistical_classification\">classification</a> task. <a href=\"http://archive.ics.uci.edu/ml/machine-learning-databases/credit-screening/crx.names\">According to UCI</a>, our dataset contains more instances that correspond to \"Denied\" status than instances corresponding to \"Approved\" status. Specifically, out of 690 instances, there are 383 (55.5%) applications that got denied and 307 (44.5%) applications that got approved. </p>\n",
        "<p>This gives us a benchmark. A good machine learning model should be able to accurately predict the status of the applications with respect to these statistics.</p>\n",
        "<p>Which model should we pick? A question to ask is: <em>are the features that affect the credit card approval decision process correlated with each other?</em> Although we can measure correlation, that is outside the scope of this notebook, so we'll rely on our intuition that they indeed are correlated for now. Because of this correlation, we'll take advantage of the fact that generalized linear models perform well in these cases. Let's start our machine learning modeling with a Logistic Regression model (a generalized linear model).</p>"
      ]
    },
    {
      "cell_type": "code",
      "metadata": {
        "dc": {
          "key": "59"
        },
        "tags": [
          "sample_code"
        ],
        "colab": {
          "base_uri": "https://localhost:8080/"
        },
        "id": "uJsMgrgASG7G",
        "outputId": "c82d69a0-0156-49e8-94a1-af13aaf336c6"
      },
      "source": [
        "# Importing LogisticRegression\n",
        "from sklearn.linear_model import LogisticRegression\n",
        "\n",
        "# Instantiating a LogisticRegression classifier with default parameter values\n",
        "logreg = LogisticRegression()\n",
        "\n",
        "# Fitting logreg to the train set\n",
        "logreg.fit(X_train,y_train)"
      ],
      "execution_count": 11,
      "outputs": [
        {
          "output_type": "stream",
          "name": "stderr",
          "text": [
            "/usr/local/lib/python3.7/dist-packages/sklearn/linear_model/_logistic.py:940: ConvergenceWarning: lbfgs failed to converge (status=1):\n",
            "STOP: TOTAL NO. of ITERATIONS REACHED LIMIT.\n",
            "\n",
            "Increase the number of iterations (max_iter) or scale the data as shown in:\n",
            "    https://scikit-learn.org/stable/modules/preprocessing.html\n",
            "Please also refer to the documentation for alternative solver options:\n",
            "    https://scikit-learn.org/stable/modules/linear_model.html#logistic-regression\n",
            "  extra_warning_msg=_LOGISTIC_SOLVER_CONVERGENCE_MSG)\n"
          ]
        },
        {
          "output_type": "execute_result",
          "data": {
            "text/plain": [
              "LogisticRegression(C=1.0, class_weight=None, dual=False, fit_intercept=True,\n",
              "                   intercept_scaling=1, l1_ratio=None, max_iter=100,\n",
              "                   multi_class='auto', n_jobs=None, penalty='l2',\n",
              "                   random_state=None, solver='lbfgs', tol=0.0001, verbose=0,\n",
              "                   warm_start=False)"
            ]
          },
          "metadata": {},
          "execution_count": 11
        }
      ]
    },
    {
      "cell_type": "markdown",
      "metadata": {
        "dc": {
          "key": "66"
        },
        "deletable": false,
        "editable": false,
        "run_control": {
          "frozen": true
        },
        "tags": [
          "context"
        ],
        "id": "pGHcefzOSG7H"
      },
      "source": [
        "## 10. Making predictions and evaluating performance\n",
        "<p>But how well does our model perform? </p>\n",
        "<p>We will now evaluate our model on the test set with respect to <a href=\"https://developers.google.com/machine-learning/crash-course/classification/accuracy\">classification accuracy</a>. But we will also take a look the model's <a href=\"http://www.dataschool.io/simple-guide-to-confusion-matrix-terminology/\">confusion matrix</a>. In the case of predicting credit card applications, it is equally important to see if our machine learning model is able to predict the approval status of the applications as denied that originally got denied. If our model is not performing well in this aspect, then it might end up approving the application that should have been approved. The confusion matrix helps us to view our model's performance from these aspects.  </p>"
      ]
    },
    {
      "cell_type": "code",
      "metadata": {
        "dc": {
          "key": "66"
        },
        "tags": [
          "sample_code"
        ],
        "colab": {
          "base_uri": "https://localhost:8080/"
        },
        "id": "GklfDkclSG7H",
        "outputId": "7e0ae0f7-83f4-4885-8b5c-9906ee96a18e"
      },
      "source": [
        "# Importing confusion_matrix\n",
        "from sklearn.metrics import confusion_matrix\n",
        "\n",
        "# Using logreg to predict instances from the test set and store it\n",
        "y_pred = logreg.predict(rescaledX_test)\n",
        "\n",
        "# Getting the accuracy score of logreg model\n",
        "print(\"Accuracy of logistic regression classifier: \", logreg.score(rescaledX_test,y_test))\n",
        "\n",
        "# The confusion matrix of the logreg model\n",
        "print(confusion_matrix(y_test,y_pred))"
      ],
      "execution_count": 12,
      "outputs": [
        {
          "output_type": "stream",
          "name": "stdout",
          "text": [
            "Accuracy of logistic regression classifier:  0.8421052631578947\n",
            "[[95  8]\n",
            " [28 97]]\n"
          ]
        }
      ]
    },
    {
      "cell_type": "markdown",
      "metadata": {
        "dc": {
          "key": "73"
        },
        "deletable": false,
        "editable": false,
        "run_control": {
          "frozen": true
        },
        "tags": [
          "context"
        ],
        "id": "oH_O97pfSG7I"
      },
      "source": [
        "## 11. Grid searching and making the model perform better\n",
        "<p>Our model was pretty good! It was able to yield an accuracy score of almost 84%.</p>\n",
        "<p>For the confusion matrix, the first element of the of the first row of the confusion matrix denotes the true negatives meaning the number of negative instances (denied applications) predicted by the model correctly. And the last element of the second row of the confusion matrix denotes the true positives meaning the number of positive instances (approved applications) predicted by the model correctly.</p>\n",
        "<p>Let's see if we can do better. We can perform a <a href=\"https://machinelearningmastery.com/how-to-tune-algorithm-parameters-with-scikit-learn/\">grid search</a> of the model parameters to improve the model's ability to predict credit card approvals.</p>\n",
        "<p><a href=\"http://scikit-learn.org/stable/modules/generated/sklearn.linear_model.LogisticRegression.html\">scikit-learn's implementation of logistic regression</a> consists of different hyperparameters but we will grid search over the following two:</p>\n",
        "<ul>\n",
        "<li>tol</li>\n",
        "<li>max_iter</li>\n",
        "</ul>"
      ]
    },
    {
      "cell_type": "code",
      "metadata": {
        "dc": {
          "key": "73"
        },
        "tags": [
          "sample_code"
        ],
        "id": "xO38ADNiSG7I"
      },
      "source": [
        "# Importing GridSearchCV\n",
        "from sklearn.model_selection import GridSearchCV\n",
        "\n",
        "# Defining the grid of values for tol and max_iter\n",
        "tol = [0.01,0.001,0.0001]\n",
        "max_iter = [100,150,200]\n",
        "\n",
        "# Creating a dictionary where tol and max_iter are keys and the lists of their values are corresponding values\n",
        "param_grid = dict(tol=[0.01,0.001,0.0001],max_iter=[100,150,200])"
      ],
      "execution_count": 13,
      "outputs": []
    },
    {
      "cell_type": "markdown",
      "metadata": {
        "dc": {
          "key": "80"
        },
        "deletable": false,
        "editable": false,
        "run_control": {
          "frozen": true
        },
        "tags": [
          "context"
        ],
        "id": "y6ylhWjPSG7J"
      },
      "source": [
        "## 12. Finding the best performing model\n",
        "<p>We have defined the grid of hyperparameter values and converted them into a single dictionary format which <code>GridSearchCV()</code> expects as one of its parameters. Now, we will begin the grid search to see which values perform best.</p>\n",
        "<p>We will instantiate <code>GridSearchCV()</code> with our earlier <code>logreg</code> model with all the data we have. Instead of passing train and test sets separately, we will supply <code>X</code> (scaled version) and <code>y</code>. We will also instruct <code>GridSearchCV()</code> to perform a <a href=\"https://www.dataschool.io/machine-learning-with-scikit-learn/\">cross-validation</a> of five folds.</p>\n",
        "<p>We'll end the notebook by storing the best-achieved score and the respective best parameters.</p>\n",
        "<p>While building this credit card predictor, we tackled some of the most widely-known preprocessing steps such as <strong>scaling</strong>, <strong>label encoding</strong>, and <strong>missing value imputation</strong>. We finished with some <strong>machine learning</strong> to predict if a person's application for a credit card would get approved or not given some information about that person.</p>"
      ]
    },
    {
      "cell_type": "code",
      "metadata": {
        "dc": {
          "key": "80"
        },
        "tags": [
          "sample_code"
        ],
        "colab": {
          "base_uri": "https://localhost:8080/"
        },
        "id": "SfBEg3PiSG7J",
        "outputId": "30303770-87db-4ba4-d004-f20fed9c651f"
      },
      "source": [
        "# Instantiating GridSearchCV with the required parameters\n",
        "grid_model = GridSearchCV(estimator=logreg, param_grid=param_grid, cv=5)\n",
        "\n",
        "# Using scaler to rescale X and assign it to rescaledX\n",
        "rescaledX = scaler.fit_transform(X)\n",
        "\n",
        "# Fiting data to grid_model\n",
        "grid_model_result = grid_model.fit(rescaledX,y)\n",
        "\n",
        "# Summarizing results\n",
        "best_score, best_params = grid_model_result.best_score_, grid_model_result.best_params_\n",
        "print(\"Best score: %f using parameters %s\" % (best_score, best_params))"
      ],
      "execution_count": 14,
      "outputs": [
        {
          "output_type": "stream",
          "name": "stdout",
          "text": [
            "Best score: 0.849275 using parameters {'max_iter': 100, 'tol': 0.01}\n"
          ]
        }
      ]
    },
    {
      "cell_type": "code",
      "metadata": {
        "id": "QccvDcReSG7J"
      },
      "source": [
        "final_logreg = LogisticRegression(tol= 0.01,max_iter=100)"
      ],
      "execution_count": 15,
      "outputs": []
    },
    {
      "cell_type": "code",
      "metadata": {
        "colab": {
          "base_uri": "https://localhost:8080/"
        },
        "id": "9Qh8X0UISG7J",
        "outputId": "1e099ec9-c3a4-4283-ecd3-6764dc61de3c"
      },
      "source": [
        "final_logreg.fit(X_train,y_train)"
      ],
      "execution_count": 16,
      "outputs": [
        {
          "output_type": "stream",
          "name": "stderr",
          "text": [
            "/usr/local/lib/python3.7/dist-packages/sklearn/linear_model/_logistic.py:940: ConvergenceWarning: lbfgs failed to converge (status=1):\n",
            "STOP: TOTAL NO. of ITERATIONS REACHED LIMIT.\n",
            "\n",
            "Increase the number of iterations (max_iter) or scale the data as shown in:\n",
            "    https://scikit-learn.org/stable/modules/preprocessing.html\n",
            "Please also refer to the documentation for alternative solver options:\n",
            "    https://scikit-learn.org/stable/modules/linear_model.html#logistic-regression\n",
            "  extra_warning_msg=_LOGISTIC_SOLVER_CONVERGENCE_MSG)\n"
          ]
        },
        {
          "output_type": "execute_result",
          "data": {
            "text/plain": [
              "LogisticRegression(C=1.0, class_weight=None, dual=False, fit_intercept=True,\n",
              "                   intercept_scaling=1, l1_ratio=None, max_iter=100,\n",
              "                   multi_class='auto', n_jobs=None, penalty='l2',\n",
              "                   random_state=None, solver='lbfgs', tol=0.01, verbose=0,\n",
              "                   warm_start=False)"
            ]
          },
          "metadata": {},
          "execution_count": 16
        }
      ]
    },
    {
      "cell_type": "code",
      "metadata": {
        "colab": {
          "base_uri": "https://localhost:8080/"
        },
        "id": "XDc9GCYJSG7K",
        "outputId": "c9094d84-eddb-450b-f170-1c62358745b7"
      },
      "source": [
        "final_logreg.predict_proba(X_test)"
      ],
      "execution_count": 17,
      "outputs": [
        {
          "output_type": "execute_result",
          "data": {
            "text/plain": [
              "array([[0.14425289, 0.85574711],\n",
              "       [0.70524927, 0.29475073],\n",
              "       [0.05315662, 0.94684338],\n",
              "       [0.06549904, 0.93450096],\n",
              "       [0.03116595, 0.96883405],\n",
              "       [0.56131935, 0.43868065],\n",
              "       [0.03120761, 0.96879239],\n",
              "       [0.62714455, 0.37285545],\n",
              "       [0.04904276, 0.95095724],\n",
              "       [0.05597332, 0.94402668],\n",
              "       [0.09685097, 0.90314903],\n",
              "       [0.74517699, 0.25482301],\n",
              "       [0.0520893 , 0.9479107 ],\n",
              "       [0.70304888, 0.29695112],\n",
              "       [0.32151537, 0.67848463],\n",
              "       [0.77669378, 0.22330622],\n",
              "       [0.03612141, 0.96387859],\n",
              "       [0.10376824, 0.89623176],\n",
              "       [0.05987475, 0.94012525],\n",
              "       [0.04504252, 0.95495748],\n",
              "       [0.11396916, 0.88603084],\n",
              "       [0.0488774 , 0.9511226 ],\n",
              "       [0.04070366, 0.95929634],\n",
              "       [0.71064239, 0.28935761],\n",
              "       [0.02739507, 0.97260493],\n",
              "       [0.08751196, 0.91248804],\n",
              "       [0.97417564, 0.02582436],\n",
              "       [0.7021816 , 0.2978184 ],\n",
              "       [0.07353326, 0.92646674],\n",
              "       [0.06604262, 0.93395738],\n",
              "       [0.81981555, 0.18018445],\n",
              "       [0.90038896, 0.09961104],\n",
              "       [0.68052679, 0.31947321],\n",
              "       [0.82330964, 0.17669036],\n",
              "       [0.6787785 , 0.3212215 ],\n",
              "       [0.88199859, 0.11800141],\n",
              "       [0.9777319 , 0.0222681 ],\n",
              "       [0.74419456, 0.25580544],\n",
              "       [0.78813052, 0.21186948],\n",
              "       [0.90078225, 0.09921775],\n",
              "       [0.87407882, 0.12592118],\n",
              "       [0.83876305, 0.16123695],\n",
              "       [0.0601511 , 0.9398489 ],\n",
              "       [0.77869574, 0.22130426],\n",
              "       [0.06476907, 0.93523093],\n",
              "       [0.97330781, 0.02669219],\n",
              "       [0.06802032, 0.93197968],\n",
              "       [0.0352484 , 0.9647516 ],\n",
              "       [0.59883066, 0.40116934],\n",
              "       [0.06326607, 0.93673393],\n",
              "       [0.04435917, 0.95564083],\n",
              "       [0.57099141, 0.42900859],\n",
              "       [0.05138437, 0.94861563],\n",
              "       [0.05004421, 0.94995579],\n",
              "       [0.83413867, 0.16586133],\n",
              "       [0.06122744, 0.93877256],\n",
              "       [0.88595562, 0.11404438],\n",
              "       [0.05282732, 0.94717268],\n",
              "       [0.88034844, 0.11965156],\n",
              "       [0.0592688 , 0.9407312 ],\n",
              "       [0.93831933, 0.06168067],\n",
              "       [0.84912904, 0.15087096],\n",
              "       [0.77559707, 0.22440293],\n",
              "       [0.47763369, 0.52236631],\n",
              "       [0.04608257, 0.95391743],\n",
              "       [0.82878573, 0.17121427],\n",
              "       [0.94843341, 0.05156659],\n",
              "       [0.57446889, 0.42553111],\n",
              "       [0.76930483, 0.23069517],\n",
              "       [0.09943878, 0.90056122],\n",
              "       [0.06790624, 0.93209376],\n",
              "       [0.70408921, 0.29591079],\n",
              "       [0.10041607, 0.89958393],\n",
              "       [0.73551436, 0.26448564],\n",
              "       [0.05126009, 0.94873991],\n",
              "       [0.03184677, 0.96815323],\n",
              "       [0.08158815, 0.91841185],\n",
              "       [0.53206968, 0.46793032],\n",
              "       [0.82075009, 0.17924991],\n",
              "       [0.05644583, 0.94355417],\n",
              "       [0.9075016 , 0.0924984 ],\n",
              "       [0.7913329 , 0.2086671 ],\n",
              "       [0.12082082, 0.87917918],\n",
              "       [0.1209479 , 0.8790521 ],\n",
              "       [0.74838549, 0.25161451],\n",
              "       [0.11997654, 0.88002346],\n",
              "       [0.87416269, 0.12583731],\n",
              "       [0.8651809 , 0.1348191 ],\n",
              "       [0.8500231 , 0.1499769 ],\n",
              "       [0.83861434, 0.16138566],\n",
              "       [0.68946921, 0.31053079],\n",
              "       [0.60951155, 0.39048845],\n",
              "       [0.99798875, 0.00201125],\n",
              "       [0.6942442 , 0.3057558 ],\n",
              "       [0.60751617, 0.39248383],\n",
              "       [0.84597311, 0.15402689],\n",
              "       [0.87607764, 0.12392236],\n",
              "       [0.68714036, 0.31285964],\n",
              "       [0.06387723, 0.93612277],\n",
              "       [0.03547075, 0.96452925],\n",
              "       [0.07976615, 0.92023385],\n",
              "       [0.4168413 , 0.5831587 ],\n",
              "       [0.83490825, 0.16509175],\n",
              "       [0.62993747, 0.37006253],\n",
              "       [0.77400088, 0.22599912],\n",
              "       [0.66318292, 0.33681708],\n",
              "       [0.05029384, 0.94970616],\n",
              "       [0.95221476, 0.04778524],\n",
              "       [0.06212596, 0.93787404],\n",
              "       [0.95852561, 0.04147439],\n",
              "       [0.06899757, 0.93100243],\n",
              "       [0.75966445, 0.24033555],\n",
              "       [0.75932671, 0.24067329],\n",
              "       [0.55169175, 0.44830825],\n",
              "       [0.84280216, 0.15719784],\n",
              "       [0.15452498, 0.84547502],\n",
              "       [0.94952624, 0.05047376],\n",
              "       [0.89971884, 0.10028116],\n",
              "       [0.10346492, 0.89653508],\n",
              "       [0.83564834, 0.16435166],\n",
              "       [0.05752149, 0.94247851],\n",
              "       [0.05038997, 0.94961003],\n",
              "       [0.8962677 , 0.1037323 ],\n",
              "       [0.13369845, 0.86630155],\n",
              "       [0.04118212, 0.95881788],\n",
              "       [0.65703271, 0.34296729],\n",
              "       [0.06991472, 0.93008528],\n",
              "       [0.10963485, 0.89036515],\n",
              "       [0.89147598, 0.10852402],\n",
              "       [0.90079665, 0.09920335],\n",
              "       [0.73081979, 0.26918021],\n",
              "       [0.08069521, 0.91930479],\n",
              "       [0.58535026, 0.41464974],\n",
              "       [0.07272122, 0.92727878],\n",
              "       [0.95956993, 0.04043007],\n",
              "       [0.87479884, 0.12520116],\n",
              "       [0.82669061, 0.17330939],\n",
              "       [0.86970138, 0.13029862],\n",
              "       [0.03104944, 0.96895056],\n",
              "       [0.87100812, 0.12899188],\n",
              "       [0.69282501, 0.30717499],\n",
              "       [0.69509886, 0.30490114],\n",
              "       [0.9102638 , 0.0897362 ],\n",
              "       [0.92865577, 0.07134423],\n",
              "       [0.04661768, 0.95338232],\n",
              "       [0.14115979, 0.85884021],\n",
              "       [0.02654825, 0.97345175],\n",
              "       [0.70637326, 0.29362674],\n",
              "       [0.57116584, 0.42883416],\n",
              "       [0.06471466, 0.93528534],\n",
              "       [0.02956353, 0.97043647],\n",
              "       [0.06085427, 0.93914573],\n",
              "       [0.0512144 , 0.9487856 ],\n",
              "       [0.89126411, 0.10873589],\n",
              "       [0.13797072, 0.86202928],\n",
              "       [0.90208875, 0.09791125],\n",
              "       [0.91648838, 0.08351162],\n",
              "       [0.80827878, 0.19172122],\n",
              "       [0.07257576, 0.92742424],\n",
              "       [0.18255031, 0.81744969],\n",
              "       [0.86012806, 0.13987194],\n",
              "       [0.02967276, 0.97032724],\n",
              "       [0.07248092, 0.92751908],\n",
              "       [0.03679391, 0.96320609],\n",
              "       [0.04366559, 0.95633441],\n",
              "       [0.0324736 , 0.9675264 ],\n",
              "       [0.05096605, 0.94903395],\n",
              "       [0.87723226, 0.12276774],\n",
              "       [0.08138497, 0.91861503],\n",
              "       [0.67449642, 0.32550358],\n",
              "       [0.09746354, 0.90253646],\n",
              "       [0.05597223, 0.94402777],\n",
              "       [0.65993485, 0.34006515],\n",
              "       [0.04984378, 0.95015622],\n",
              "       [0.46377408, 0.53622592],\n",
              "       [0.06884377, 0.93115623],\n",
              "       [0.06815446, 0.93184554],\n",
              "       [0.06435866, 0.93564134],\n",
              "       [0.0850114 , 0.9149886 ],\n",
              "       [0.05346226, 0.94653774],\n",
              "       [0.22294745, 0.77705255],\n",
              "       [0.74055475, 0.25944525],\n",
              "       [0.63140025, 0.36859975],\n",
              "       [0.14867225, 0.85132775],\n",
              "       [0.90310775, 0.09689225],\n",
              "       [0.07647238, 0.92352762],\n",
              "       [0.62805063, 0.37194937],\n",
              "       [0.640179  , 0.359821  ],\n",
              "       [0.70786606, 0.29213394],\n",
              "       [0.79984301, 0.20015699],\n",
              "       [0.07416382, 0.92583618],\n",
              "       [0.81511072, 0.18488928],\n",
              "       [0.04765878, 0.95234122],\n",
              "       [0.57668562, 0.42331438],\n",
              "       [0.73463156, 0.26536844],\n",
              "       [0.87389578, 0.12610422],\n",
              "       [0.87111456, 0.12888544],\n",
              "       [0.9350361 , 0.0649639 ],\n",
              "       [0.80473321, 0.19526679],\n",
              "       [0.82828097, 0.17171903],\n",
              "       [0.65603928, 0.34396072],\n",
              "       [0.93763348, 0.06236652],\n",
              "       [0.03782298, 0.96217702],\n",
              "       [0.91134599, 0.08865401],\n",
              "       [0.63472186, 0.36527814],\n",
              "       [0.07540186, 0.92459814],\n",
              "       [0.89169237, 0.10830763],\n",
              "       [0.86534909, 0.13465091],\n",
              "       [0.02736495, 0.97263505],\n",
              "       [0.04542933, 0.95457067],\n",
              "       [0.8164811 , 0.1835189 ],\n",
              "       [0.15422779, 0.84577221],\n",
              "       [0.70766787, 0.29233213],\n",
              "       [0.64915505, 0.35084495],\n",
              "       [0.05013777, 0.94986223],\n",
              "       [0.09760469, 0.90239531],\n",
              "       [0.73305886, 0.26694114],\n",
              "       [0.06326749, 0.93673251],\n",
              "       [0.16376029, 0.83623971],\n",
              "       [0.11815833, 0.88184167],\n",
              "       [0.5800324 , 0.4199676 ],\n",
              "       [0.86289785, 0.13710215],\n",
              "       [0.84259917, 0.15740083],\n",
              "       [0.034854  , 0.965146  ],\n",
              "       [0.96248449, 0.03751551],\n",
              "       [0.05241222, 0.94758778],\n",
              "       [0.05921531, 0.94078469],\n",
              "       [0.03279425, 0.96720575]])"
            ]
          },
          "metadata": {},
          "execution_count": 17
        }
      ]
    },
    {
      "cell_type": "code",
      "metadata": {
        "id": "Argw_czGSG7K"
      },
      "source": [
        "y_predf= final_logreg.predict(X_test)"
      ],
      "execution_count": 18,
      "outputs": []
    },
    {
      "cell_type": "code",
      "metadata": {
        "colab": {
          "base_uri": "https://localhost:8080/"
        },
        "id": "aZD2kI0ZSG7L",
        "outputId": "29593fba-de3b-4b29-c18c-34eeb5d02bc1"
      },
      "source": [
        "final_logreg.score(rescaledX_test,y_test)\n"
      ],
      "execution_count": 19,
      "outputs": [
        {
          "output_type": "execute_result",
          "data": {
            "text/plain": [
              "0.8421052631578947"
            ]
          },
          "metadata": {},
          "execution_count": 19
        }
      ]
    },
    {
      "cell_type": "code",
      "metadata": {
        "id": "HCxRRLWESG7L"
      },
      "source": [
        "coef, intcpt = final_logreg.coef_ , final_logreg.intercept_"
      ],
      "execution_count": 20,
      "outputs": []
    },
    {
      "cell_type": "code",
      "metadata": {
        "colab": {
          "base_uri": "https://localhost:8080/",
          "height": 282
        },
        "id": "hpWeoXH2SG7L",
        "outputId": "ed1eec89-f865-4e66-c437-317d38f97308"
      },
      "source": [
        "Xl = np.linspace(0,1,228)\n",
        "Yl = final_logreg.predict(X_test)\n",
        "\n",
        "import matplotlib.pyplot as plt\n",
        "plt.scatter(Xl, Yl)"
      ],
      "execution_count": 21,
      "outputs": [
        {
          "output_type": "execute_result",
          "data": {
            "text/plain": [
              "<matplotlib.collections.PathCollection at 0x7febec95ee10>"
            ]
          },
          "metadata": {},
          "execution_count": 21
        },
        {
          "output_type": "display_data",
          "data": {
            "image/png": "[encoded data removed]",
            "text/plain": [
              "<Figure size 432x288 with 1 Axes>"
            ]
          },
          "metadata": {
            "needs_background": "light"
          }
        }
      ]
    },
    {
      "cell_type": "code",
      "metadata": {
        "colab": {
          "base_uri": "https://localhost:8080/"
        },
        "id": "RjZXmLriSG7M",
        "outputId": "8cc33829-b643-40e7-c4df-d0b74fead568"
      },
      "source": [
        "final_logreg.coef_"
      ],
      "execution_count": 22,
      "outputs": [
        {
          "output_type": "execute_result",
          "data": {
            "text/plain": [
              "array([[ 2.03153553e-01, -1.05618569e-03, -2.97853924e-03,\n",
              "         1.44574420e+00, -4.49862844e-01, -4.12504885e-02,\n",
              "        -3.08898614e-02, -6.94765310e-02, -3.25672784e+00,\n",
              "        -5.74249454e-01, -8.91042871e-02]])"
            ]
          },
          "metadata": {},
          "execution_count": 22
        }
      ]
    },
    {
      "cell_type": "markdown",
      "metadata": {
        "id": "dLkGYKd1VjED"
      },
      "source": [
        "## Thank You!"
      ]
    }
  ]
}